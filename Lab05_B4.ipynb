{
  "nbformat": 4,
  "nbformat_minor": 0,
  "metadata": {
    "colab": {
      "name": "Lab05_B4.ipynb",
      "provenance": [],
      "authorship_tag": "ABX9TyMcUxXmHYbUC1VFlNksjgny",
      "include_colab_link": true
    },
    "kernelspec": {
      "name": "python3",
      "display_name": "Python 3"
    },
    "language_info": {
      "name": "python"
    }
  },
  "cells": [
    {
      "cell_type": "markdown",
      "metadata": {
        "id": "view-in-github",
        "colab_type": "text"
      },
      "source": [
        "<a href=\"https://colab.research.google.com/github/vnathu/LAP-TRINH-PYTHON-NANG-CAO/blob/main/Lab05_B4.ipynb\" target=\"_parent\"><img src=\"https://colab.research.google.com/assets/colab-badge.svg\" alt=\"Open In Colab\"/></a>"
      ]
    },
    {
      "cell_type": "code",
      "metadata": {
        "colab": {
          "base_uri": "https://localhost:8080/"
        },
        "id": "78HuqT5lx9KV",
        "outputId": "f335d110-e93b-458a-85a9-fde79d303eb6"
      },
      "source": [
        "class Nematode:\n",
        "  def __init__(self, lenght:int, gender:str, age: int):\n",
        "    self.lenght = lenght\n",
        "    self.gender = gender\n",
        "    self.age = age\n",
        "  def __str__(self):\n",
        "    return ('Celegan is : \\n+ lenght {}mm \\n+ gender is {} \\n+ age = {} days '.format(self.lenght, self.gender, self.age))\n",
        "  def __repr__(self):\n",
        "    return ('{} {} {}'.format(self.lenght, self.gender, self.age))\n",
        "Celegan = Nematode(2, 'female', 14)\n",
        "print(Celegan.__str__())\n",
        "print(Celegan.__repr__())"
      ],
      "execution_count": 6,
      "outputs": [
        {
          "output_type": "stream",
          "name": "stdout",
          "text": [
            "Celegan is : \n",
            "+ lenght 2mm \n",
            "+ gender is female \n",
            "+ age = 14 days \n",
            "2 female 14\n"
          ]
        }
      ]
    }
  ]
}