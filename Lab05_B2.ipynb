{
  "nbformat": 4,
  "nbformat_minor": 0,
  "metadata": {
    "colab": {
      "name": "Lab05_B2.ipynb",
      "provenance": [],
      "authorship_tag": "ABX9TyPMz5dyTYOjEyeERXvaEOxR",
      "include_colab_link": true
    },
    "kernelspec": {
      "name": "python3",
      "display_name": "Python 3"
    },
    "language_info": {
      "name": "python"
    }
  },
  "cells": [
    {
      "cell_type": "markdown",
      "metadata": {
        "id": "view-in-github",
        "colab_type": "text"
      },
      "source": [
        "<a href=\"https://colab.research.google.com/github/vnathu/LAP-TRINH-PYTHON-NANG-CAO/blob/main/Lab05_B2.ipynb\" target=\"_parent\"><img src=\"https://colab.research.google.com/assets/colab-badge.svg\" alt=\"Open In Colab\"/></a>"
      ]
    },
    {
      "cell_type": "code",
      "metadata": {
        "id": "lTL8517RwGPD"
      },
      "source": [
        "from B1 import Country    \n",
        "class Continent:\n",
        "    def __init__(self, name, countries):\n",
        "        self.name = name\n",
        "        self.countries = countries\n",
        "\n",
        "    def total_population(self):\n",
        "        total = 0\n",
        "        for country in self.countries:\n",
        "            total = total + country.population\n",
        "        return total\n",
        "\n",
        "    def __str__(self):\n",
        "        res = self.name\n",
        "        for country in self.countries:\n",
        "            res = res + '\\n' + str(country)\n",
        "        return res       \n",
        "\n",
        "canada = Country('Canada', 34482779, 9984670)\n",
        "usa = Country('United States of America', 313914040,9826675)\n",
        "mexico = Country('Mexico', 112336538, 1943950)\n",
        "countries = [canada, usa, mexico]\n",
        "north_america = Continent('North America', countries)\n",
        "# a\n",
        "print(north_america.name)\n",
        "for country in north_america.countries:\n",
        "    print(country)\n",
        "# b\n",
        "print(north_america.total_population())\n",
        "# c\n",
        "print(north_america)"
      ],
      "execution_count": null,
      "outputs": []
    }
  ]
}