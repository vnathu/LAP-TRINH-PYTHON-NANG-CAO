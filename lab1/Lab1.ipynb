{
  "nbformat": 4,
  "nbformat_minor": 0,
  "metadata": {
    "colab": {
      "name": "Lab1",
      "provenance": [],
      "authorship_tag": "ABX9TyNqNVcAi1qXEZyAi3jBg/Os",
      "include_colab_link": true
    },
    "kernelspec": {
      "name": "python3",
      "display_name": "Python 3"
    },
    "language_info": {
      "name": "python"
    }
  },
  "cells": [
    {
      "cell_type": "markdown",
      "metadata": {
        "id": "view-in-github",
        "colab_type": "text"
      },
      "source": [
        "<a href=\"https://colab.research.google.com/github/vnathu/LAP-TRINH-PYTHON-NANG-CAO/blob/main/lab1/Lab1.ipynb\" target=\"_parent\"><img src=\"https://colab.research.google.com/assets/colab-badge.svg\" alt=\"Open In Colab\"/></a>"
      ]
    },
    {
      "cell_type": "code",
      "metadata": {
        "colab": {
          "base_uri": "https://localhost:8080/"
        },
        "id": "aV_Pqtj8UmY-",
        "outputId": "cfcdcdf1-53d6-4b2f-ae73-8216beba6c77"
      },
      "source": [
        "min(2,3,4)"
      ],
      "execution_count": null,
      "outputs": [
        {
          "output_type": "execute_result",
          "data": {
            "text/plain": [
              "2"
            ]
          },
          "metadata": {},
          "execution_count": 7
        }
      ]
    },
    {
      "cell_type": "code",
      "metadata": {
        "colab": {
          "base_uri": "https://localhost:8080/"
        },
        "id": "kEyvp5J2Uqts",
        "outputId": "be8a761e-f435-4b68-d784-8904fdd56c2c"
      },
      "source": [
        "max(2,-3,4,7,5)"
      ],
      "execution_count": null,
      "outputs": [
        {
          "output_type": "execute_result",
          "data": {
            "text/plain": [
              "7"
            ]
          },
          "metadata": {},
          "execution_count": 8
        }
      ]
    },
    {
      "cell_type": "code",
      "metadata": {
        "colab": {
          "base_uri": "https://localhost:8080/"
        },
        "id": "iSieWMPcU4gc",
        "outputId": "57c77f41-56f6-4f84-cb71-b20929d24b12"
      },
      "source": [
        "max(2,-3,min(4,7),-5)"
      ],
      "execution_count": null,
      "outputs": [
        {
          "output_type": "execute_result",
          "data": {
            "text/plain": [
              "4"
            ]
          },
          "metadata": {},
          "execution_count": 9
        }
      ]
    },
    {
      "cell_type": "code",
      "metadata": {
        "colab": {
          "base_uri": "https://localhost:8080/"
        },
        "id": "PXLbLChwVtwN",
        "outputId": "7998610e-1324-4f36-9e8f-dd0c6398b43f"
      },
      "source": [
        "min(max(3,4),abs(-5))"
      ],
      "execution_count": null,
      "outputs": [
        {
          "output_type": "execute_result",
          "data": {
            "text/plain": [
              "4"
            ]
          },
          "metadata": {},
          "execution_count": 10
        }
      ]
    },
    {
      "cell_type": "code",
      "metadata": {
        "colab": {
          "base_uri": "https://localhost:8080/"
        },
        "id": "2BX9k1vLV1JC",
        "outputId": "f9193042-1054-4297-9147-9d9f70af4f06"
      },
      "source": [
        "abs(min(4,6,max(2,8)))"
      ],
      "execution_count": null,
      "outputs": [
        {
          "output_type": "execute_result",
          "data": {
            "text/plain": [
              "4"
            ]
          },
          "metadata": {},
          "execution_count": 11
        }
      ]
    },
    {
      "cell_type": "code",
      "metadata": {
        "colab": {
          "base_uri": "https://localhost:8080/"
        },
        "id": "5aXVSDgBV7YT",
        "outputId": "8c9c2a13-bd47-4fe3-8d80-c48be45133c0"
      },
      "source": [
        "round(max(5.572,3.258),abs(-2))"
      ],
      "execution_count": null,
      "outputs": [
        {
          "output_type": "execute_result",
          "data": {
            "text/plain": [
              "5.57"
            ]
          },
          "metadata": {},
          "execution_count": 12
        }
      ]
    },
    {
      "cell_type": "code",
      "metadata": {
        "colab": {
          "base_uri": "https://localhost:8080/"
        },
        "id": "-y9J75pHMTER",
        "outputId": "a61eb600-2a2c-434c-8064-d22ba59923c2"
      },
      "source": [
        "\n",
        "def absolute_difference(number1, number2):\n",
        "  return abs(number1 - number2)\n",
        "absolute_difference(3, 7)"
      ],
      "execution_count": null,
      "outputs": [
        {
          "output_type": "execute_result",
          "data": {
            "text/plain": [
              "4"
            ]
          },
          "metadata": {},
          "execution_count": 2
        }
      ]
    },
    {
      "cell_type": "code",
      "metadata": {
        "colab": {
          "base_uri": "https://localhost:8080/"
        },
        "id": "9nv29zS4M1eG",
        "outputId": "ab9d0eca-e989-4f01-8f41-34adeeb22a8b"
      },
      "source": [
        "def km_to_miles(km):\n",
        "  return km / 1.6\n",
        "km_to_miles(5)"
      ],
      "execution_count": null,
      "outputs": [
        {
          "output_type": "execute_result",
          "data": {
            "text/plain": [
              "3.125"
            ]
          },
          "metadata": {},
          "execution_count": 3
        }
      ]
    },
    {
      "cell_type": "code",
      "metadata": {
        "colab": {
          "base_uri": "https://localhost:8080/"
        },
        "id": "YRYJ2TLHNIHF",
        "outputId": "75665635-2e67-4dc6-8511-da65186c74b9"
      },
      "source": [
        "def average_grade(grade1, grade2, grade3):\n",
        "  return (grade1 + grade2 + grade3) / 3\n",
        "average_grade(80, 95, 90)"
      ],
      "execution_count": 2,
      "outputs": [
        {
          "output_type": "execute_result",
          "data": {
            "text/plain": [
              "88.33333333333333"
            ]
          },
          "metadata": {},
          "execution_count": 2
        }
      ]
    },
    {
      "cell_type": "code",
      "metadata": {
        "colab": {
          "base_uri": "https://localhost:8080/"
        },
        "id": "G06fbWdHFkaM",
        "outputId": "36f7151d-f6a7-4f97-9670-2ff9f971cd55"
      },
      "source": [
        "def top_three_avg(grade1, grade2, grade3, grade4):\n",
        " # Here is one solution that does not use average_grade from Q6.\n",
        " total = grade1 + grade2 + grade3 + grade4\n",
        " top_three = total - min(grade1, grade2, grade3, grade4)\n",
        " return top_three / 3\n",
        " # Here is a different solution that does use the function from Q6.\n",
        " return max(average_grade(grade1, grade2, grade3),\n",
        " average_grade(grade1, grade2, grade4),\n",
        " average_grade(grade1, grade3, grade4),\n",
        " average_grade(grade2, grade3, grade4))\n",
        " return (grade1 + grade2 + grade3) / 3\n",
        "top_three_avg(50, 60, 70, 80)"
      ],
      "execution_count": 1,
      "outputs": [
        {
          "output_type": "execute_result",
          "data": {
            "text/plain": [
              "70.0"
            ]
          },
          "metadata": {},
          "execution_count": 1
        }
      ]
    },
    {
      "cell_type": "code",
      "metadata": {
        "id": "4-npzqZlMp30",
        "outputId": "9f354aa0-1009-4ae6-da49-a80c87a0553d",
        "colab": {
          "base_uri": "https://localhost:8080/"
        }
      },
      "source": [
        "def weeks_elapsed(day1, day2):\n",
        "  return abs(int((day1-day2)/7))\n",
        "weeks_elapsed(3,20)"
      ],
      "execution_count": 3,
      "outputs": [
        {
          "output_type": "execute_result",
          "data": {
            "text/plain": [
              "2"
            ]
          },
          "metadata": {},
          "execution_count": 3
        }
      ]
    },
    {
      "cell_type": "code",
      "metadata": {
        "id": "2DMcEStMMsmT",
        "outputId": "f10da0fd-75dd-47b4-db26-304a6aa7ad4c",
        "colab": {
          "base_uri": "https://localhost:8080/"
        }
      },
      "source": [
        "weeks_elapsed(20,3)"
      ],
      "execution_count": 4,
      "outputs": [
        {
          "output_type": "execute_result",
          "data": {
            "text/plain": [
              "2"
            ]
          },
          "metadata": {},
          "execution_count": 4
        }
      ]
    },
    {
      "cell_type": "code",
      "metadata": {
        "id": "uJAZ3DxJMxRF",
        "outputId": "241aadc8-928d-4b3b-a7c0-2b02df0a9d50",
        "colab": {
          "base_uri": "https://localhost:8080/"
        }
      },
      "source": [
        "weeks_elapsed(8,5)"
      ],
      "execution_count": 5,
      "outputs": [
        {
          "output_type": "execute_result",
          "data": {
            "text/plain": [
              "0"
            ]
          },
          "metadata": {},
          "execution_count": 5
        }
      ]
    },
    {
      "cell_type": "code",
      "metadata": {
        "id": "O78s4s4DMz0j",
        "outputId": "8f88ed6f-cb75-4faf-aac6-06a1eb8e3c2a",
        "colab": {
          "base_uri": "https://localhost:8080/"
        }
      },
      "source": [
        "weeks_elapsed(40,61)"
      ],
      "execution_count": 6,
      "outputs": [
        {
          "output_type": "execute_result",
          "data": {
            "text/plain": [
              "3"
            ]
          },
          "metadata": {},
          "execution_count": 6
        }
      ]
    },
    {
      "cell_type": "code",
      "metadata": {
        "id": "uluJBQGaM114",
        "outputId": "2292d83d-7d3c-4ac3-a9f5-b960730e26da",
        "colab": {
          "base_uri": "https://localhost:8080/"
        }
      },
      "source": [
        "def square(num):\n",
        "  return num*num\n",
        "square(3)"
      ],
      "execution_count": 7,
      "outputs": [
        {
          "output_type": "execute_result",
          "data": {
            "text/plain": [
              "9"
            ]
          },
          "metadata": {},
          "execution_count": 7
        }
      ]
    },
    {
      "cell_type": "code",
      "metadata": {
        "id": "j0ypAz_YRf03",
        "outputId": "c2628520-3fa1-4cfc-faed-14f410455663",
        "colab": {
          "base_uri": "https://localhost:8080/"
        }
      },
      "source": [
        "import math\n",
        "math.floor(-2.8)"
      ],
      "execution_count": 9,
      "outputs": [
        {
          "output_type": "execute_result",
          "data": {
            "text/plain": [
              "-3"
            ]
          },
          "metadata": {},
          "execution_count": 9
        }
      ]
    },
    {
      "cell_type": "code",
      "metadata": {
        "id": "h1ItzdOsRna6",
        "outputId": "0e43c0d6-e0bf-48ad-8715-e235dd40dd8f",
        "colab": {
          "base_uri": "https://localhost:8080/"
        }
      },
      "source": [
        "import math\n",
        "abs(round(-4.3))"
      ],
      "execution_count": 10,
      "outputs": [
        {
          "output_type": "execute_result",
          "data": {
            "text/plain": [
              "4"
            ]
          },
          "metadata": {},
          "execution_count": 10
        }
      ]
    },
    {
      "cell_type": "code",
      "metadata": {
        "id": "t766-w-oRq5c",
        "outputId": "db84a0e1-37e9-49a8-e716-fc48492b7791",
        "colab": {
          "base_uri": "https://localhost:8080/"
        }
      },
      "source": [
        "import math\n",
        "math.ceil(math.sin(34.5))"
      ],
      "execution_count": 11,
      "outputs": [
        {
          "output_type": "execute_result",
          "data": {
            "text/plain": [
              "1"
            ]
          },
          "metadata": {},
          "execution_count": 11
        }
      ]
    },
    {
      "cell_type": "code",
      "metadata": {
        "id": "W6QM0M-2RsD9",
        "outputId": "868822c9-c07d-4bf7-d000-10d54c121901",
        "colab": {
          "base_uri": "https://localhost:8080/"
        }
      },
      "source": [
        "import calendar\n",
        "help(calendar.isleap)"
      ],
      "execution_count": 12,
      "outputs": [
        {
          "output_type": "stream",
          "name": "stdout",
          "text": [
            "Help on function isleap in module calendar:\n",
            "\n",
            "isleap(year)\n",
            "    Return True for leap years, False for non-leap years.\n",
            "\n"
          ]
        }
      ]
    },
    {
      "cell_type": "code",
      "metadata": {
        "id": "GhHPoUU7RvR4",
        "outputId": "0b786b97-b08a-4cf8-81a4-de1be4a13a8e",
        "colab": {
          "base_uri": "https://localhost:8080/"
        }
      },
      "source": [
        "import calendar\n",
        "calendar.isleap(2016)"
      ],
      "execution_count": 13,
      "outputs": [
        {
          "output_type": "execute_result",
          "data": {
            "text/plain": [
              "True"
            ]
          },
          "metadata": {},
          "execution_count": 13
        }
      ]
    },
    {
      "cell_type": "code",
      "metadata": {
        "id": "fb5TVc43Rzms",
        "outputId": "fe96d2e2-13d8-461f-a90c-3bc10732abfe",
        "colab": {
          "base_uri": "https://localhost:8080/"
        }
      },
      "source": [
        "import calendar\n",
        "dir(calendar)"
      ],
      "execution_count": 14,
      "outputs": [
        {
          "output_type": "execute_result",
          "data": {
            "text/plain": [
              "['Calendar',\n",
              " 'EPOCH',\n",
              " 'FRIDAY',\n",
              " 'February',\n",
              " 'HTMLCalendar',\n",
              " 'IllegalMonthError',\n",
              " 'IllegalWeekdayError',\n",
              " 'January',\n",
              " 'LocaleHTMLCalendar',\n",
              " 'LocaleTextCalendar',\n",
              " 'MONDAY',\n",
              " 'SATURDAY',\n",
              " 'SUNDAY',\n",
              " 'THURSDAY',\n",
              " 'TUESDAY',\n",
              " 'TextCalendar',\n",
              " 'WEDNESDAY',\n",
              " '_EPOCH_ORD',\n",
              " '__all__',\n",
              " '__builtins__',\n",
              " '__cached__',\n",
              " '__doc__',\n",
              " '__file__',\n",
              " '__loader__',\n",
              " '__name__',\n",
              " '__package__',\n",
              " '__spec__',\n",
              " '_colwidth',\n",
              " '_locale',\n",
              " '_localized_day',\n",
              " '_localized_month',\n",
              " '_spacing',\n",
              " 'c',\n",
              " 'calendar',\n",
              " 'datetime',\n",
              " 'day_abbr',\n",
              " 'day_name',\n",
              " 'different_locale',\n",
              " 'error',\n",
              " 'firstweekday',\n",
              " 'format',\n",
              " 'formatstring',\n",
              " 'isleap',\n",
              " 'leapdays',\n",
              " 'main',\n",
              " 'mdays',\n",
              " 'month',\n",
              " 'month_abbr',\n",
              " 'month_name',\n",
              " 'monthcalendar',\n",
              " 'monthlen',\n",
              " 'monthrange',\n",
              " 'nextmonth',\n",
              " 'prcal',\n",
              " 'prevmonth',\n",
              " 'prmonth',\n",
              " 'prweek',\n",
              " 'repeat',\n",
              " 'setfirstweekday',\n",
              " 'sys',\n",
              " 'timegm',\n",
              " 'week',\n",
              " 'weekday',\n",
              " 'weekheader']"
            ]
          },
          "metadata": {},
          "execution_count": 14
        }
      ]
    },
    {
      "cell_type": "code",
      "metadata": {
        "id": "pCL9mJ8UR5Ri",
        "outputId": "2ef972e2-01be-4b19-da8c-22b804c318b3",
        "colab": {
          "base_uri": "https://localhost:8080/"
        }
      },
      "source": [
        "import calendar\n",
        "calendar.leapdays(2000, 2050)"
      ],
      "execution_count": 15,
      "outputs": [
        {
          "output_type": "execute_result",
          "data": {
            "text/plain": [
              "13"
            ]
          },
          "metadata": {},
          "execution_count": 15
        }
      ]
    },
    {
      "cell_type": "code",
      "metadata": {
        "id": "cLX53ZtxR7hp",
        "outputId": "0855b712-87df-478c-91c2-d1f8c74d3eb2",
        "colab": {
          "base_uri": "https://localhost:8080/"
        }
      },
      "source": [
        "import calendar\n",
        "calendar.weekday(2016, 7, 29)"
      ],
      "execution_count": 16,
      "outputs": [
        {
          "output_type": "execute_result",
          "data": {
            "text/plain": [
              "4"
            ]
          },
          "metadata": {},
          "execution_count": 16
        }
      ]
    },
    {
      "cell_type": "code",
      "metadata": {
        "id": "p_v8uYAAR9tY",
        "outputId": "22777e46-6219-421c-c675-d01aeec27342",
        "colab": {
          "base_uri": "https://localhost:8080/"
        }
      },
      "source": [
        "def average(num1: float, num2: float):\n",
        "  return (num1 + num2) / 2\n",
        "average(10,20)"
      ],
      "execution_count": 17,
      "outputs": [
        {
          "output_type": "execute_result",
          "data": {
            "text/plain": [
              "15.0"
            ]
          },
          "metadata": {},
          "execution_count": 17
        }
      ]
    },
    {
      "cell_type": "code",
      "metadata": {
        "id": "HwFmJYWNSAaM",
        "outputId": "40d6066e-984f-4867-d4b3-6323796d060b",
        "colab": {
          "base_uri": "https://localhost:8080/"
        }
      },
      "source": [
        "def average(num1: float, num2: float):\n",
        "  return (num1 + num2) / 2\n",
        "average(2.5, 3.0)"
      ],
      "execution_count": 18,
      "outputs": [
        {
          "output_type": "execute_result",
          "data": {
            "text/plain": [
              "2.75"
            ]
          },
          "metadata": {},
          "execution_count": 18
        }
      ]
    },
    {
      "cell_type": "code",
      "metadata": {
        "id": "x79sPQHRSCsI",
        "outputId": "78e35901-d7c8-4bac-9bbc-708fb5874724",
        "colab": {
          "base_uri": "https://localhost:8080/",
          "height": 35
        }
      },
      "source": [
        "'hello'.upper()"
      ],
      "execution_count": 19,
      "outputs": [
        {
          "output_type": "execute_result",
          "data": {
            "application/vnd.google.colaboratory.intrinsic+json": {
              "type": "string"
            },
            "text/plain": [
              "'HELLO'"
            ]
          },
          "metadata": {},
          "execution_count": 19
        }
      ]
    },
    {
      "cell_type": "code",
      "metadata": {
        "id": "rJmIBaQYSFDI",
        "outputId": "08ef7e6f-c818-42eb-e9fb-a5ecd9ec855a",
        "colab": {
          "base_uri": "https://localhost:8080/",
          "height": 35
        }
      },
      "source": [
        "'Happy Birthday!'.lower()"
      ],
      "execution_count": 20,
      "outputs": [
        {
          "output_type": "execute_result",
          "data": {
            "application/vnd.google.colaboratory.intrinsic+json": {
              "type": "string"
            },
            "text/plain": [
              "'happy birthday!'"
            ]
          },
          "metadata": {},
          "execution_count": 20
        }
      ]
    },
    {
      "cell_type": "code",
      "metadata": {
        "id": "8iAFvTvbSHM5",
        "outputId": "7ef334cb-0575-41f3-e577-01f5c91110c7",
        "colab": {
          "base_uri": "https://localhost:8080/",
          "height": 35
        }
      },
      "source": [
        "'WeeeEEEEeeeEEEEeee'.swapcase()"
      ],
      "execution_count": 21,
      "outputs": [
        {
          "output_type": "execute_result",
          "data": {
            "application/vnd.google.colaboratory.intrinsic+json": {
              "type": "string"
            },
            "text/plain": [
              "'wEEEeeeeEEEeeeeEEE'"
            ]
          },
          "metadata": {},
          "execution_count": 21
        }
      ]
    },
    {
      "cell_type": "code",
      "metadata": {
        "id": "47IZJvxeSZDx",
        "outputId": "a7633761-fb0d-4c9e-cef0-e6c689aaa43d",
        "colab": {
          "base_uri": "https://localhost:8080/"
        }
      },
      "source": [
        "'ABC123'.isupper()"
      ],
      "execution_count": 22,
      "outputs": [
        {
          "output_type": "execute_result",
          "data": {
            "text/plain": [
              "True"
            ]
          },
          "metadata": {},
          "execution_count": 22
        }
      ]
    },
    {
      "cell_type": "code",
      "metadata": {
        "id": "fbbfDODZSdWx",
        "outputId": "5055430c-575a-47fe-d9dc-31f0e7af8848",
        "colab": {
          "base_uri": "https://localhost:8080/"
        }
      },
      "source": [
        "'aeiouAEIOU'.count('a')"
      ],
      "execution_count": 23,
      "outputs": [
        {
          "output_type": "execute_result",
          "data": {
            "text/plain": [
              "1"
            ]
          },
          "metadata": {},
          "execution_count": 23
        }
      ]
    },
    {
      "cell_type": "code",
      "metadata": {
        "id": "P_Cxk1OeSfJb",
        "outputId": "b956cab6-6a9a-47e2-a5b9-279e8d3445d4",
        "colab": {
          "base_uri": "https://localhost:8080/"
        }
      },
      "source": [
        "'hello'.endswith('o')"
      ],
      "execution_count": 24,
      "outputs": [
        {
          "output_type": "execute_result",
          "data": {
            "text/plain": [
              "True"
            ]
          },
          "metadata": {},
          "execution_count": 24
        }
      ]
    },
    {
      "cell_type": "code",
      "metadata": {
        "id": "t-7fhkh-Sg87",
        "outputId": "c617776c-159f-4595-ea7d-36a94d7911d0",
        "colab": {
          "base_uri": "https://localhost:8080/"
        }
      },
      "source": [
        "'hello'.startswith('H')"
      ],
      "execution_count": 25,
      "outputs": [
        {
          "output_type": "execute_result",
          "data": {
            "text/plain": [
              "False"
            ]
          },
          "metadata": {},
          "execution_count": 25
        }
      ]
    },
    {
      "cell_type": "code",
      "metadata": {
        "id": "XVeMo68JSjBw",
        "outputId": "83a6a674-a212-4f3b-c140-4955d0ffeda4",
        "colab": {
          "base_uri": "https://localhost:8080/",
          "height": 35
        }
      },
      "source": [
        "'Hello {0}'.format('Python')"
      ],
      "execution_count": 26,
      "outputs": [
        {
          "output_type": "execute_result",
          "data": {
            "application/vnd.google.colaboratory.intrinsic+json": {
              "type": "string"
            },
            "text/plain": [
              "'Hello Python'"
            ]
          },
          "metadata": {},
          "execution_count": 26
        }
      ]
    },
    {
      "cell_type": "code",
      "metadata": {
        "id": "Dcr7-E3nSlDL",
        "outputId": "951a4ea3-8b77-4c90-e164-fe939dae8f12",
        "colab": {
          "base_uri": "https://localhost:8080/",
          "height": 35
        }
      },
      "source": [
        "'Hello {0}! Hello {1}!'.format('Python', 'World')"
      ],
      "execution_count": 27,
      "outputs": [
        {
          "output_type": "execute_result",
          "data": {
            "application/vnd.google.colaboratory.intrinsic+json": {
              "type": "string"
            },
            "text/plain": [
              "'Hello Python! Hello World!'"
            ]
          },
          "metadata": {},
          "execution_count": 27
        }
      ]
    },
    {
      "cell_type": "code",
      "metadata": {
        "id": "AWPZQoODSm1d",
        "outputId": "ca8ba804-9203-464f-dadc-ad697e28342a",
        "colab": {
          "base_uri": "https://localhost:8080/"
        }
      },
      "source": [
        "'tomato'.count('o')"
      ],
      "execution_count": 28,
      "outputs": [
        {
          "output_type": "execute_result",
          "data": {
            "text/plain": [
              "2"
            ]
          },
          "metadata": {},
          "execution_count": 28
        }
      ]
    },
    {
      "cell_type": "code",
      "metadata": {
        "id": "U5TBMZsESo0y",
        "outputId": "3d3c124e-5a9f-4b0f-aa73-c079a169a891",
        "colab": {
          "base_uri": "https://localhost:8080/"
        }
      },
      "source": [
        "'tomato'.find('o')"
      ],
      "execution_count": 29,
      "outputs": [
        {
          "output_type": "execute_result",
          "data": {
            "text/plain": [
              "1"
            ]
          },
          "metadata": {},
          "execution_count": 29
        }
      ]
    },
    {
      "cell_type": "code",
      "metadata": {
        "id": "NcTe21JQSqp5",
        "outputId": "43d8861f-6104-4796-b293-4d757fff5dd6",
        "colab": {
          "base_uri": "https://localhost:8080/"
        }
      },
      "source": [
        "'avocado'.find('o','avocado'.find('o') +1 )"
      ],
      "execution_count": 30,
      "outputs": [
        {
          "output_type": "execute_result",
          "data": {
            "text/plain": [
              "6"
            ]
          },
          "metadata": {},
          "execution_count": 30
        }
      ]
    },
    {
      "cell_type": "code",
      "metadata": {
        "id": "cU8RqUYCStQD",
        "outputId": "581fdb09-e006-4b23-80a1-92966d7365e1",
        "colab": {
          "base_uri": "https://localhost:8080/",
          "height": 35
        }
      },
      "source": [
        "'runner'.replace('n','b')"
      ],
      "execution_count": 31,
      "outputs": [
        {
          "output_type": "execute_result",
          "data": {
            "application/vnd.google.colaboratory.intrinsic+json": {
              "type": "string"
            },
            "text/plain": [
              "'rubber'"
            ]
          },
          "metadata": {},
          "execution_count": 31
        }
      ]
    },
    {
      "cell_type": "code",
      "metadata": {
        "id": "eGlhCvnTSvAk",
        "outputId": "b96fffec-c27d-4b5c-dc17-6329dd24504a",
        "colab": {
          "base_uri": "https://localhost:8080/"
        }
      },
      "source": [
        "'fruit'.count('p')"
      ],
      "execution_count": 32,
      "outputs": [
        {
          "output_type": "execute_result",
          "data": {
            "text/plain": [
              "0"
            ]
          },
          "metadata": {},
          "execution_count": 32
        }
      ]
    },
    {
      "cell_type": "code",
      "metadata": {
        "id": "qdIbqZ22SyyY",
        "outputId": "960a5e2a-4e5d-452d-a131-c04b75814be9",
        "colab": {
          "base_uri": "https://localhost:8080/"
        }
      },
      "source": [
        "'fruit'.find('p',3)"
      ],
      "execution_count": 33,
      "outputs": [
        {
          "output_type": "execute_result",
          "data": {
            "text/plain": [
              "-1"
            ]
          },
          "metadata": {},
          "execution_count": 33
        }
      ]
    },
    {
      "cell_type": "code",
      "metadata": {
        "id": "0HLWxvj3Szvt",
        "outputId": "15ff53af-ff2e-4427-f60e-8cdefec1e8f7",
        "colab": {
          "base_uri": "https://localhost:8080/",
          "height": 35
        }
      },
      "source": [
        "'fruit'.upper()"
      ],
      "execution_count": 34,
      "outputs": [
        {
          "output_type": "execute_result",
          "data": {
            "application/vnd.google.colaboratory.intrinsic+json": {
              "type": "string"
            },
            "text/plain": [
              "'FRUIT'"
            ]
          },
          "metadata": {},
          "execution_count": 34
        }
      ]
    },
    {
      "cell_type": "code",
      "metadata": {
        "id": "et8-YmPJS2UO",
        "outputId": "42b2adf9-4737-48e8-cba8-78435bdd4512",
        "colab": {
          "base_uri": "https://localhost:8080/",
          "height": 35
        }
      },
      "source": [
        "'PINEAPPLE'.swapcase()"
      ],
      "execution_count": 35,
      "outputs": [
        {
          "output_type": "execute_result",
          "data": {
            "application/vnd.google.colaboratory.intrinsic+json": {
              "type": "string"
            },
            "text/plain": [
              "'pineapple'"
            ]
          },
          "metadata": {},
          "execution_count": 35
        }
      ]
    },
    {
      "cell_type": "code",
      "metadata": {
        "id": "ayNcoqqKS40Y",
        "outputId": "c03505c3-5902-4e2c-8eda-4185858f8ef6",
        "colab": {
          "base_uri": "https://localhost:8080/"
        }
      },
      "source": [
        "'fruit'.count('pineapple')"
      ],
      "execution_count": 36,
      "outputs": [
        {
          "output_type": "execute_result",
          "data": {
            "text/plain": [
              "0"
            ]
          },
          "metadata": {},
          "execution_count": 36
        }
      ]
    },
    {
      "cell_type": "code",
      "metadata": {
        "id": "MIMzq8PfS49B",
        "outputId": "b8913a29-a197-4856-e23e-385fa0859cac",
        "colab": {
          "base_uri": "https://localhost:8080/",
          "height": 35
        }
      },
      "source": [
        "'fruit'.swapcase()"
      ],
      "execution_count": 37,
      "outputs": [
        {
          "output_type": "execute_result",
          "data": {
            "application/vnd.google.colaboratory.intrinsic+json": {
              "type": "string"
            },
            "text/plain": [
              "'FRUIT'"
            ]
          },
          "metadata": {},
          "execution_count": 37
        }
      ]
    },
    {
      "cell_type": "code",
      "metadata": {
        "id": "vXYD7YnvS9l0",
        "outputId": "bcabc4f2-7c14-4496-966d-193cedac9cb7",
        "colab": {
          "base_uri": "https://localhost:8080/",
          "height": 35
        }
      },
      "source": [
        "'fruit'.lower()"
      ],
      "execution_count": 38,
      "outputs": [
        {
          "output_type": "execute_result",
          "data": {
            "application/vnd.google.colaboratory.intrinsic+json": {
              "type": "string"
            },
            "text/plain": [
              "'fruit'"
            ]
          },
          "metadata": {},
          "execution_count": 38
        }
      ]
    },
    {
      "cell_type": "code",
      "metadata": {
        "id": "g5Q4NXmXS_jX",
        "outputId": "a6937aae-6ffb-4756-acfb-65a586a821f9",
        "colab": {
          "base_uri": "https://localhost:8080/",
          "height": 35
        }
      },
      "source": [
        "'fruit'.replace('PINEAPPLE','pineapple')"
      ],
      "execution_count": 39,
      "outputs": [
        {
          "output_type": "execute_result",
          "data": {
            "application/vnd.google.colaboratory.intrinsic+json": {
              "type": "string"
            },
            "text/plain": [
              "'fruit'"
            ]
          },
          "metadata": {},
          "execution_count": 39
        }
      ]
    },
    {
      "cell_type": "code",
      "metadata": {
        "id": "C92rKfSrTBzx",
        "outputId": "b0237030-77fe-4a0e-ffc8-1446a82ff700",
        "colab": {
          "base_uri": "https://localhost:8080/",
          "height": 35
        }
      },
      "source": [
        "season = \"summer\"\n",
        "'I love {0}!'.format(season)"
      ],
      "execution_count": 40,
      "outputs": [
        {
          "output_type": "execute_result",
          "data": {
            "application/vnd.google.colaboratory.intrinsic+json": {
              "type": "string"
            },
            "text/plain": [
              "'I love summer!'"
            ]
          },
          "metadata": {},
          "execution_count": 40
        }
      ]
    },
    {
      "cell_type": "code",
      "metadata": {
        "id": "RkRqnKK7TD-S",
        "outputId": "51b0cfac-ccbd-4e1f-841a-332324d791ca",
        "colab": {
          "base_uri": "https://localhost:8080/",
          "height": 35
        }
      },
      "source": [
        "side1=\"10cm\"\n",
        "side2=\"4cm\"\n",
        "side3=\"17cm\"\n",
        "'The sides have lengths {0},{1},{2}'.format(side1,side2,side3)"
      ],
      "execution_count": 41,
      "outputs": [
        {
          "output_type": "execute_result",
          "data": {
            "application/vnd.google.colaboratory.intrinsic+json": {
              "type": "string"
            },
            "text/plain": [
              "'The sides have lengths 10cm,4cm,17cm'"
            ]
          },
          "metadata": {},
          "execution_count": 41
        }
      ]
    },
    {
      "cell_type": "code",
      "metadata": {
        "id": "4VKjPYKaTGFh",
        "outputId": "6ae5e7f1-30b0-4420-b2fe-c452459196d0",
        "colab": {
          "base_uri": "https://localhost:8080/",
          "height": 35
        }
      },
      "source": [
        "'boolean'.capitalize()"
      ],
      "execution_count": 42,
      "outputs": [
        {
          "output_type": "execute_result",
          "data": {
            "application/vnd.google.colaboratory.intrinsic+json": {
              "type": "string"
            },
            "text/plain": [
              "'Boolean'"
            ]
          },
          "metadata": {},
          "execution_count": 42
        }
      ]
    },
    {
      "cell_type": "code",
      "metadata": {
        "id": "PDfVgOQ3TH-y",
        "outputId": "482dc2dd-0a0d-4329-ba7d-d01da070ade6",
        "colab": {
          "base_uri": "https://localhost:8080/"
        }
      },
      "source": [
        "'CO2 H20'.find('2')"
      ],
      "execution_count": 43,
      "outputs": [
        {
          "output_type": "execute_result",
          "data": {
            "text/plain": [
              "2"
            ]
          },
          "metadata": {},
          "execution_count": 43
        }
      ]
    },
    {
      "cell_type": "code",
      "metadata": {
        "id": "bM0Ji0v6TQmo",
        "outputId": "c1ddfc58-6eb8-41f8-ec2d-09b5044815ad",
        "colab": {
          "base_uri": "https://localhost:8080/"
        }
      },
      "source": [
        "'CO2 H20'.find('2','CO2 H20'.find('2') +1)"
      ],
      "execution_count": 44,
      "outputs": [
        {
          "output_type": "execute_result",
          "data": {
            "text/plain": [
              "5"
            ]
          },
          "metadata": {},
          "execution_count": 44
        }
      ]
    },
    {
      "cell_type": "code",
      "metadata": {
        "id": "6ywo4AJuTT7T",
        "outputId": "d297c361-7758-49e8-83c4-74546e8dba18",
        "colab": {
          "base_uri": "https://localhost:8080/"
        }
      },
      "source": [
        "'Boolean'[0].islower()"
      ],
      "execution_count": 45,
      "outputs": [
        {
          "output_type": "execute_result",
          "data": {
            "text/plain": [
              "False"
            ]
          },
          "metadata": {},
          "execution_count": 45
        }
      ]
    },
    {
      "cell_type": "code",
      "metadata": {
        "id": "SpT4b2uCTuGe",
        "outputId": "4b662528-0e44-443e-cb51-9ea316cf3265",
        "colab": {
          "base_uri": "https://localhost:8080/",
          "height": 35
        }
      },
      "source": [
        "\"MoNDaY\".lower().capitalize()"
      ],
      "execution_count": 46,
      "outputs": [
        {
          "output_type": "execute_result",
          "data": {
            "application/vnd.google.colaboratory.intrinsic+json": {
              "type": "string"
            },
            "text/plain": [
              "'Monday'"
            ]
          },
          "metadata": {},
          "execution_count": 46
        }
      ]
    },
    {
      "cell_type": "code",
      "metadata": {
        "id": "uyZ4UrslTwPT",
        "outputId": "ae99abcb-1068-4c76-de5e-267d9492c5db",
        "colab": {
          "base_uri": "https://localhost:8080/",
          "height": 35
        }
      },
      "source": [
        "\"Monday\".lstrip()"
      ],
      "execution_count": 47,
      "outputs": [
        {
          "output_type": "execute_result",
          "data": {
            "application/vnd.google.colaboratory.intrinsic+json": {
              "type": "string"
            },
            "text/plain": [
              "'Monday'"
            ]
          },
          "metadata": {},
          "execution_count": 47
        }
      ]
    },
    {
      "cell_type": "code",
      "metadata": {
        "id": "5sQmbW4cTy-f",
        "outputId": "b99a6fea-0ec2-49d0-e7ce-37187b6e5495",
        "colab": {
          "base_uri": "https://localhost:8080/"
        }
      },
      "source": [
        "def total_occurrences(s1,s2,ch):\n",
        "  return s1.count(ch) +s2.count(ch)\n",
        "total_occurrences('red', 'blue', 'l')"
      ],
      "execution_count": 48,
      "outputs": [
        {
          "output_type": "execute_result",
          "data": {
            "text/plain": [
              "1"
            ]
          },
          "metadata": {},
          "execution_count": 48
        }
      ]
    }
  ]
}