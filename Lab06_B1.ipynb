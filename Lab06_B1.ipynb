{
  "nbformat": 4,
  "nbformat_minor": 0,
  "metadata": {
    "colab": {
      "name": "Lab06_B1.ipynb",
      "provenance": [],
      "authorship_tag": "ABX9TyPbm3z0PRHl8em9+XYbjBYw",
      "include_colab_link": true
    },
    "kernelspec": {
      "name": "python3",
      "display_name": "Python 3"
    },
    "language_info": {
      "name": "python"
    }
  },
  "cells": [
    {
      "cell_type": "markdown",
      "metadata": {
        "id": "view-in-github",
        "colab_type": "text"
      },
      "source": [
        "<a href=\"https://colab.research.google.com/github/vnathu/LAP-TRINH-PYTHON-NANG-CAO/blob/main/Lab06_B1.ipynb\" target=\"_parent\"><img src=\"https://colab.research.google.com/assets/colab-badge.svg\" alt=\"Open In Colab\"/></a>"
      ]
    },
    {
      "cell_type": "code",
      "metadata": {
        "id": "78HuqT5lx9KV"
      },
      "source": [
        "import tkinter\n",
        "\n",
        "window = tkinter.Tk()\n",
        "frame = tkinter.Frame(window)\n",
        "frame.pack()\n",
        "button = tkinter.Button(frame, text='Goodbye', command=lambda:\n",
        "window.destroy())\n",
        "button.pack()\n",
        "window.mainloop()"
      ],
      "execution_count": null,
      "outputs": []
    }
  ]
}