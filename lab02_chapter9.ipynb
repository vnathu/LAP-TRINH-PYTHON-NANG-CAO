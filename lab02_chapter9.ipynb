{
  "nbformat": 4,
  "nbformat_minor": 0,
  "metadata": {
    "colab": {
      "name": "lab02_chapter9.ipynb",
      "provenance": [],
      "collapsed_sections": [],
      "authorship_tag": "ABX9TyNAaAHap1/VqRpkMk2KpZCm",
      "include_colab_link": true
    },
    "kernelspec": {
      "name": "python3",
      "display_name": "Python 3"
    },
    "language_info": {
      "name": "python"
    }
  },
  "cells": [
    {
      "cell_type": "markdown",
      "metadata": {
        "id": "view-in-github",
        "colab_type": "text"
      },
      "source": [
        "<a href=\"https://colab.research.google.com/github/vnathu/LAP-TRINH-PYTHON-NANG-CAO/blob/main/lab02_chapter9.ipynb\" target=\"_parent\"><img src=\"https://colab.research.google.com/assets/colab-badge.svg\" alt=\"Open In Colab\"/></a>"
      ]
    },
    {
      "cell_type": "markdown",
      "metadata": {
        "id": "Db2YTZFRqg7G"
      },
      "source": [
        "Bai1\n"
      ]
    },
    {
      "cell_type": "code",
      "metadata": {
        "colab": {
          "base_uri": "https://localhost:8080/"
        },
        "id": "72nF4mDUqkWF",
        "outputId": "bd741ac6-c78d-4d29-a1bc-99582612343a"
      },
      "source": [
        "celegans_phenotypes = ['Emb','Him', 'Unc', 'Lon', 'Dpy', 'Sma']\n",
        "for phenotype in celegans_phenotypes:\n",
        " print(phenotype)"
      ],
      "execution_count": 1,
      "outputs": [
        {
          "output_type": "stream",
          "name": "stdout",
          "text": [
            "Emb\n",
            "Him\n",
            "Unc\n",
            "Lon\n",
            "Dpy\n",
            "Sma\n"
          ]
        }
      ]
    },
    {
      "cell_type": "markdown",
      "metadata": {
        "id": "wTz6hfotq3LA"
      },
      "source": [
        "Bai2"
      ]
    },
    {
      "cell_type": "code",
      "metadata": {
        "colab": {
          "base_uri": "https://localhost:8080/"
        },
        "id": "cm6jhKB_q4Qe",
        "outputId": "15936cfa-02d8-469b-aa98-276811d7ba41"
      },
      "source": [
        "half_lives = [87.74, 24110.0,6537.0, 14.4, 376000.0]\n",
        "for value in half_lives:\n",
        " print(value, end=' ')"
      ],
      "execution_count": 2,
      "outputs": [
        {
          "output_type": "stream",
          "name": "stdout",
          "text": [
            "87.74 24110.0 6537.0 14.4 376000.0 "
          ]
        }
      ]
    },
    {
      "cell_type": "markdown",
      "metadata": {
        "id": "fbuE_GBgq850"
      },
      "source": [
        "Bai3"
      ]
    },
    {
      "cell_type": "code",
      "metadata": {
        "colab": {
          "base_uri": "https://localhost:8080/"
        },
        "id": "TlKquzwPq-Mm",
        "outputId": "643e2770-3b97-4d89-8f7a-3f8e714cd204"
      },
      "source": [
        "whales = [5, 4, 7, 3, 2, 3, 2, 6, 4, 2, 1, 7, 1, 3]\n",
        "more_whales = []\n",
        "for count in whales:\n",
        " more_whales.append(count + 1)\n",
        "print(more_whales)"
      ],
      "execution_count": 3,
      "outputs": [
        {
          "output_type": "stream",
          "name": "stdout",
          "text": [
            "[6, 5, 8, 4, 3, 4, 3, 7, 5, 3, 2, 8, 2, 4]\n"
          ]
        }
      ]
    },
    {
      "cell_type": "markdown",
      "metadata": {
        "id": "rxiCSVwerBsk"
      },
      "source": [
        "Bai4"
      ]
    },
    {
      "cell_type": "code",
      "metadata": {
        "colab": {
          "base_uri": "https://localhost:8080/"
        },
        "id": "OUSyq9hZrChq",
        "outputId": "f1adf9a5-4eb1-4108-a079-ad1539503a63"
      },
      "source": [
        "#caua\n",
        "alkaline_earth_metals = [[4, 9.012], [12, 24.305],[20, 40.078], [38, 87.62],[56, 137.327], [88, 226]]\n",
        "#caub\n",
        "for inner_list in alkaline_earth_metals:\n",
        " print(\"inner_list[0]\",inner_list[0])\n",
        " print(\"inner_list[1]\",inner_list[1])\n",
        "#cauc\n",
        "number_and_weight = []\n",
        "for inner_list in alkaline_earth_metals:\n",
        " number_and_weight.append(inner_list[0])\n",
        " number_and_weight.append(inner_list[1])\n",
        " print(number_and_weight[0])\n",
        " print(number_and_weight[1])"
      ],
      "execution_count": 4,
      "outputs": [
        {
          "output_type": "stream",
          "name": "stdout",
          "text": [
            "inner_list[0] 4\n",
            "inner_list[1] 9.012\n",
            "inner_list[0] 12\n",
            "inner_list[1] 24.305\n",
            "inner_list[0] 20\n",
            "inner_list[1] 40.078\n",
            "inner_list[0] 38\n",
            "inner_list[1] 87.62\n",
            "inner_list[0] 56\n",
            "inner_list[1] 137.327\n",
            "inner_list[0] 88\n",
            "inner_list[1] 226\n",
            "4\n",
            "9.012\n",
            "4\n",
            "9.012\n",
            "4\n",
            "9.012\n",
            "4\n",
            "9.012\n",
            "4\n",
            "9.012\n",
            "4\n",
            "9.012\n"
          ]
        }
      ]
    },
    {
      "cell_type": "markdown",
      "metadata": {
        "id": "Q49wXikjrON4"
      },
      "source": [
        "Bai6"
      ]
    },
    {
      "cell_type": "code",
      "metadata": {
        "colab": {
          "base_uri": "https://localhost:8080/"
        },
        "id": "Xfr_f5OwrP4c",
        "outputId": "b4f0cc54-4780-4b58-dacf-b5a7517c553c"
      },
      "source": [
        "text = \"\"\n",
        "while text.lower() != \"quit\":\n",
        " text = input(\"Please enter 'QUIT' or 'quit' to exit: \")\n",
        " if text == \"quit\":\n",
        "  print(\"…exiting program\")\n",
        " elif text ==\"QUIT\":\n",
        "   print(\"…exiting program\")\n",
        " else:\n",
        "  print(\"Unknown compound\")"
      ],
      "execution_count": 5,
      "outputs": [
        {
          "output_type": "stream",
          "name": "stdout",
          "text": [
            "Please enter 'QUIT' or 'quit' to exit: quit\n",
            "…exiting program\n"
          ]
        }
      ]
    },
    {
      "cell_type": "markdown",
      "metadata": {
        "id": "QaoCSQ38rZNe"
      },
      "source": [
        "Bai7"
      ]
    },
    {
      "cell_type": "code",
      "metadata": {
        "colab": {
          "base_uri": "https://localhost:8080/"
        },
        "id": "WQ4jxHh0rcHL",
        "outputId": "3ef78550-176d-422a-cb71-d6d49452e63c"
      },
      "source": [
        "country_populations = [1295, 23, 7, 3, 47, 21]\n",
        "total = 0\n",
        "for population in country_populations:\n",
        " total += population\n",
        "print(total)"
      ],
      "execution_count": 6,
      "outputs": [
        {
          "output_type": "stream",
          "name": "stdout",
          "text": [
            "1396\n"
          ]
        }
      ]
    },
    {
      "cell_type": "markdown",
      "metadata": {
        "id": "GtkOgwN6rhRR"
      },
      "source": [
        "Bai9"
      ]
    },
    {
      "cell_type": "code",
      "metadata": {
        "colab": {
          "base_uri": "https://localhost:8080/"
        },
        "id": "4QsTS62IrvfJ",
        "outputId": "d8b09fcc-30b0-44e9-b943-1313eef85d8a"
      },
      "source": [
        "for number in range(33, 50):\n",
        " print(number)"
      ],
      "execution_count": 8,
      "outputs": [
        {
          "output_type": "stream",
          "name": "stdout",
          "text": [
            "33\n",
            "34\n",
            "35\n",
            "36\n",
            "37\n",
            "38\n",
            "39\n",
            "40\n",
            "41\n",
            "42\n",
            "43\n",
            "44\n",
            "45\n",
            "46\n",
            "47\n",
            "48\n",
            "49\n"
          ]
        }
      ]
    },
    {
      "cell_type": "markdown",
      "metadata": {
        "id": "iwoK66DMrwjo"
      },
      "source": [
        "Bai10"
      ]
    },
    {
      "cell_type": "code",
      "metadata": {
        "colab": {
          "base_uri": "https://localhost:8080/"
        },
        "id": "wcVQHJuprzXK",
        "outputId": "22b8bbbc-3323-4eb7-f66e-86599e25881a"
      },
      "source": [
        "for number in range(10):\n",
        " print(10 - number, end=' ')"
      ],
      "execution_count": 9,
      "outputs": [
        {
          "output_type": "stream",
          "name": "stdout",
          "text": [
            "10 9 8 7 6 5 4 3 2 1 "
          ]
        }
      ]
    },
    {
      "cell_type": "markdown",
      "metadata": {
        "id": "f9oFEQsQr4Ez"
      },
      "source": [
        "Bai11"
      ]
    },
    {
      "cell_type": "code",
      "metadata": {
        "colab": {
          "base_uri": "https://localhost:8080/"
        },
        "id": "EewBq9ILr48O",
        "outputId": "dd5b4691-b680-4006-ea24-60bd77b87198"
      },
      "source": [
        "sum = 0\n",
        "count = 0\n",
        "for number in range(2,23):\n",
        " sum += number\n",
        " count += 1\n",
        "average = sum / count\n",
        "print(average)"
      ],
      "execution_count": 11,
      "outputs": [
        {
          "output_type": "stream",
          "name": "stdout",
          "text": [
            "12.0\n"
          ]
        }
      ]
    },
    {
      "cell_type": "markdown",
      "metadata": {
        "id": "dXanqD8Qr8_g"
      },
      "source": [
        "Bài12"
      ]
    },
    {
      "cell_type": "code",
      "metadata": {
        "id": "ETcafkVGr-1m"
      },
      "source": [
        "\n",
        "def remove_neg(num_list):\n",
        " index = 0\n",
        " while index < len(num_list):\n",
        "  if num_list[index] < 0:\n",
        "    del num_list[index]\n",
        "  else:\n",
        "    index += 1"
      ],
      "execution_count": 12,
      "outputs": []
    },
    {
      "cell_type": "markdown",
      "metadata": {
        "id": "JcgHpzecsCF8"
      },
      "source": [
        "Bai13"
      ]
    },
    {
      "cell_type": "code",
      "metadata": {
        "colab": {
          "base_uri": "https://localhost:8080/"
        },
        "id": "f9np-4XHsC4y",
        "outputId": "9144c69c-9af1-4fa8-f351-d9c9974fe9de"
      },
      "source": [
        "for width in range(1, 8):\n",
        " print('T' * width)"
      ],
      "execution_count": 13,
      "outputs": [
        {
          "output_type": "stream",
          "name": "stdout",
          "text": [
            "T\n",
            "TT\n",
            "TTT\n",
            "TTTT\n",
            "TTTTT\n",
            "TTTTTT\n",
            "TTTTTTT\n"
          ]
        }
      ]
    },
    {
      "cell_type": "markdown",
      "metadata": {
        "id": "dTYQzozgsEsU"
      },
      "source": [
        "Bai14"
      ]
    },
    {
      "cell_type": "code",
      "metadata": {
        "colab": {
          "base_uri": "https://localhost:8080/"
        },
        "id": "gI6mXboGsFyO",
        "outputId": "10d30a77-b756-4a99-84a1-9d86f4c43f22"
      },
      "source": [
        "for width in range(1, 8):\n",
        " print(' ' * (7 - width), 'T' * width, sep='')"
      ],
      "execution_count": 14,
      "outputs": [
        {
          "output_type": "stream",
          "name": "stdout",
          "text": [
            "      T\n",
            "     TT\n",
            "    TTT\n",
            "   TTTT\n",
            "  TTTTT\n",
            " TTTTTT\n",
            "TTTTTTT\n"
          ]
        }
      ]
    },
    {
      "cell_type": "markdown",
      "metadata": {
        "id": "rZmduXEUsLOu"
      },
      "source": [
        "Bai15"
      ]
    },
    {
      "cell_type": "code",
      "metadata": {
        "colab": {
          "base_uri": "https://localhost:8080/"
        },
        "id": "x2uEfLgysMVX",
        "outputId": "a666e912-1d50-48da-f883-cd514cb9042d"
      },
      "source": [
        "width = 1\n",
        "while width < 8:\n",
        " print('T' * width)\n",
        " width += 1\n",
        "width = 1\n",
        "while width < 8:\n",
        " print(' ' * (7 - width), 'T' * width, sep='')\n",
        " width += 1"
      ],
      "execution_count": 15,
      "outputs": [
        {
          "output_type": "stream",
          "name": "stdout",
          "text": [
            "T\n",
            "TT\n",
            "TTT\n",
            "TTTT\n",
            "TTTTT\n",
            "TTTTTT\n",
            "TTTTTTT\n",
            "      T\n",
            "     TT\n",
            "    TTT\n",
            "   TTTT\n",
            "  TTTTT\n",
            " TTTTTT\n",
            "TTTTTTT\n"
          ]
        }
      ]
    }
  ]
}