{
  "nbformat": 4,
  "nbformat_minor": 0,
  "metadata": {
    "colab": {
      "name": "Lab05_B1",
      "provenance": [],
      "authorship_tag": "ABX9TyNjqyhUfPtlR3kBGGUiiwUr",
      "include_colab_link": true
    },
    "kernelspec": {
      "name": "python3",
      "display_name": "Python 3"
    },
    "language_info": {
      "name": "python"
    }
  },
  "cells": [
    {
      "cell_type": "markdown",
      "metadata": {
        "id": "view-in-github",
        "colab_type": "text"
      },
      "source": [
        "<a href=\"https://colab.research.google.com/github/vnathu/LAP-TRINH-PYTHON-NANG-CAO/blob/main/Lab05_B1.ipynb\" target=\"_parent\"><img src=\"https://colab.research.google.com/assets/colab-badge.svg\" alt=\"Open In Colab\"/></a>"
      ]
    },
    {
      "cell_type": "code",
      "metadata": {
        "id": "_bCupj2nrvrr"
      },
      "source": [
        "class Country:\n",
        "    def __init__ (self, name, population, area):\n",
        "        self.name=name\n",
        "        self.population=population\n",
        "        self.area=area\n",
        "\n",
        "    def is_larger(self, other):\n",
        "        if (self.area>other.area):\n",
        "            return True\n",
        "        else:\n",
        "            return False\n",
        "    def population_desity(self):\n",
        "        return self.population/self.area\n",
        "\n",
        "    def __str__ (self):\n",
        "        return ('{} has a population of {} and is {} sqare km'.format(self.name, self.population, self.area))\n",
        "\n",
        "    def __repr__(self):\n",
        "        return (\"Country('{0}', {1}, {2})\".format(self.name, self.population, self.area))"
      ],
      "execution_count": null,
      "outputs": []
    },
    {
      "cell_type": "code",
      "metadata": {
        "colab": {
          "base_uri": "https://localhost:8080/"
        },
        "id": "Pud1hwNOrzHt",
        "outputId": "b313a2ed-9ece-4490-9f4d-afda203eeede"
      },
      "source": [
        "#caua\n",
        "canada = Country(\"Canada\", 34482779, 9984670)\n",
        "usa = Country('United States of America', 313914040, 9826675)\n",
        "print(canada.name)\n",
        "print(canada.population)\n",
        "print(canada.area)\n"
      ],
      "execution_count": null,
      "outputs": [
        {
          "output_type": "stream",
          "name": "stdout",
          "text": [
            "Canada\n",
            "34482779\n",
            "9984670\n"
          ]
        }
      ]
    },
    {
      "cell_type": "code",
      "metadata": {
        "colab": {
          "base_uri": "https://localhost:8080/"
        },
        "id": "iBn2fqLTr3W1",
        "outputId": "69ff43ab-00d8-4c24-cc4c-796e9f0cb7c1"
      },
      "source": [
        "#caub\n",
        "print(canada.is_larger(usa))\n",
        "print(usa.is_larger(canada))\n"
      ],
      "execution_count": null,
      "outputs": [
        {
          "output_type": "stream",
          "name": "stdout",
          "text": [
            "True\n",
            "False\n"
          ]
        }
      ]
    },
    {
      "cell_type": "code",
      "metadata": {
        "colab": {
          "base_uri": "https://localhost:8080/"
        },
        "id": "_9iMPIOZr7K9",
        "outputId": "48c5eba8-a8f0-42a6-b6ce-41d6ec41a4ea"
      },
      "source": [
        "#cauc\n",
        "print(canada.population_desity())\n"
      ],
      "execution_count": null,
      "outputs": [
        {
          "output_type": "stream",
          "name": "stdout",
          "text": [
            "3.4535722262227995\n"
          ]
        }
      ]
    },
    {
      "cell_type": "code",
      "metadata": {
        "colab": {
          "base_uri": "https://localhost:8080/"
        },
        "id": "4lDUWbkIr-gh",
        "outputId": "95ed2f90-9e7c-4235-aa7f-8d686dcab60d"
      },
      "source": [
        "#caud\n",
        "usa = Country('United States of America', 313914040, 9826675)\n",
        "print(usa)\n"
      ],
      "execution_count": null,
      "outputs": [
        {
          "output_type": "stream",
          "name": "stdout",
          "text": [
            "United States of America has a population of 313914040 and is 9826675 sqare km\n"
          ]
        }
      ]
    },
    {
      "cell_type": "code",
      "metadata": {
        "colab": {
          "base_uri": "https://localhost:8080/"
        },
        "id": "AdCQ3iRcsBhv",
        "outputId": "7efbb308-e6be-4fb3-b47a-1cc306bfc175"
      },
      "source": [
        "#caue\n",
        "canada = Country('Canada', 34482779, 9984670)\n",
        "print(canada)\n",
        "print([canada])"
      ],
      "execution_count": null,
      "outputs": [
        {
          "output_type": "stream",
          "name": "stdout",
          "text": [
            "Canada has a population of 34482779 and is 9984670 sqare km\n",
            "[Country('Canada', 34482779, 9984670)]\n"
          ]
        }
      ]
    }
  ]
}