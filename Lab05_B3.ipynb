{
  "nbformat": 4,
  "nbformat_minor": 0,
  "metadata": {
    "colab": {
      "name": "Lab05_B3.ipynb",
      "provenance": [],
      "authorship_tag": "ABX9TyMuH8J+54fiWpcC7As19Wxs",
      "include_colab_link": true
    },
    "kernelspec": {
      "name": "python3",
      "display_name": "Python 3"
    },
    "language_info": {
      "name": "python"
    }
  },
  "cells": [
    {
      "cell_type": "markdown",
      "metadata": {
        "id": "view-in-github",
        "colab_type": "text"
      },
      "source": [
        "<a href=\"https://colab.research.google.com/github/vnathu/LAP-TRINH-PYTHON-NANG-CAO/blob/main/Lab05_B3.ipynb\" target=\"_parent\"><img src=\"https://colab.research.google.com/assets/colab-badge.svg\" alt=\"Open In Colab\"/></a>"
      ]
    },
    {
      "cell_type": "code",
      "metadata": {
        "colab": {
          "base_uri": "https://localhost:8080/"
        },
        "id": "TmVBEjthxGle",
        "outputId": "fe73f821-cfab-497d-bf08-54d950a0dce0"
      },
      "source": [
        "class Student:\n",
        "  def __init__(self, name:str, number: str, course:str, mail:str):\n",
        "    self.name = name\n",
        "    self.number = number\n",
        "    self.course = course\n",
        "    self.mail = mail\n",
        "  def __str__(self):\n",
        "    return ('{}\\n{}\\n{}\\n{} '.format(self.name, self.number, self.course, self.mail))\n",
        "pupil = Student('Anh Thu', '187it21225', 'thu.187it21225', 'K24-IT10' )\n",
        "# a\n",
        "print(pupil)"
      ],
      "execution_count": 5,
      "outputs": [
        {
          "output_type": "stream",
          "name": "stdout",
          "text": [
            "Anh Thu\n",
            "187it21225\n",
            "thu.187it21225\n",
            "K24-IT10 \n"
          ]
        }
      ]
    }
  ]
}